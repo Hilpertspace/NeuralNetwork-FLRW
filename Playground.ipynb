{
 "cells": [
  {
   "cell_type": "code",
   "execution_count": null,
   "id": "48fe89a1",
   "metadata": {},
   "outputs": [],
   "source": [
    "# This notebook is to familiarise with the OneStep_NN library to solve the equations \n",
    "# of motion of a FLRW universe in Euclidean Regge calculus for a single time step. \n",
    "# Note: You need to have the file 'OneStep_NN.py' in your current directory!\n",
    "\n",
    "# The four examples in the documentation are example usages of the two solver\n",
    "# routines and can be used hands-on to find solutions.\n",
    "\n",
    "# Note: If no solution can be found right away, try:\n",
    "# -> to increase the learning rate\n",
    "# -> to decrease the clipnorm\n",
    "# -> to switch to the other solver\n",
    "# before altering more advanced settings, which can be found in the documentation\n",
    "# of the respective functions."
   ]
  },
  {
   "cell_type": "code",
   "execution_count": null,
   "id": "cabadf13",
   "metadata": {},
   "outputs": [],
   "source": [
    "import OneStep_NN as osnn\n",
    "import tensorflow as tf\n",
    "import numpy as np\n",
    "import matplotlib.pyplot as plt"
   ]
  },
  {
   "cell_type": "code",
   "execution_count": null,
   "id": "5b694dc0",
   "metadata": {},
   "outputs": [],
   "source": [
    "# To read the documentation of the implemented functions,\n",
    "# replace 'help' by the respective command.\n",
    "osnn.documentation('help')"
   ]
  }
 ],
 "metadata": {
  "kernelspec": {
   "display_name": "Python 3 (ipykernel)",
   "language": "python",
   "name": "python3"
  },
  "language_info": {
   "codemirror_mode": {
    "name": "ipython",
    "version": 3
   },
   "file_extension": ".py",
   "mimetype": "text/x-python",
   "name": "python",
   "nbconvert_exporter": "python",
   "pygments_lexer": "ipython3",
   "version": "3.9.7"
  }
 },
 "nbformat": 4,
 "nbformat_minor": 5
}
